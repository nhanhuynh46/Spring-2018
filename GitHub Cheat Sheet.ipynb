{
 "cells": [
  {
   "cell_type": "markdown",
   "metadata": {},
   "source": [
    "- Clone a repository in Github means to create a local copy of the code provided by the developer. To do this in the terminal:\n",
    "\n",
    "    `git clone https-link-of-the-repo`\n",
    "\n",
    "- To store Jupyter notebook on Github, first we need to connect with the repository by cloning, then type in the terminal the following commands:\n",
    "\n",
    "    `git status`                *# display the working directory and staging area*\n",
    "\n",
    "    `git add -A`                *# add files into stage level*\n",
    "\n",
    "    `git commit -m \"Update\"`    \n",
    "\n",
    "    `git push origin master`    *# push all updated files to the master branch*\n",
    "\n",
    "- To update a Github forked repository, first we need to clone the local forked repository. Then, add the original repository as the remote. Then we can fetch all the branches from that upstream repository, and rebase all of our work to continue working on the upstream version. For more information, visit this link: https://stackoverflow.com/questions/7244321/how-do-i-update-a-github-forked-repository/7244456#7244456\n",
    "\n",
    "    `git remote add upstream https://github.com/whoever/whatever.git`\n",
    "\n",
    "    `git fetch upstream`\n",
    "\n",
    "    `git checkout master`\n",
    "\n",
    "    `git rebase upstream/master`\n",
    "\n",
    "    `git push -f origin master`\n",
    "\n",
    "- To check all branches:\n",
    "\n",
    "    `git branch -a`\n",
    "\n",
    "- To create a new branch to develop your work (i.e., create a new branch named *develop*):\n",
    "\n",
    "    `git checkout -b develop`\n",
    "    \n",
    "- To switch back and forth between different branches, i.e., switch to master branch:\n",
    "\n",
    "    `git checkout master`"
   ]
  }
 ],
 "metadata": {
  "kernelspec": {
   "display_name": "Python 3",
   "language": "python",
   "name": "python3"
  },
  "language_info": {
   "codemirror_mode": {
    "name": "ipython",
    "version": 3
   },
   "file_extension": ".py",
   "mimetype": "text/x-python",
   "name": "python",
   "nbconvert_exporter": "python",
   "pygments_lexer": "ipython3",
   "version": "3.6.5"
  }
 },
 "nbformat": 4,
 "nbformat_minor": 2
}
