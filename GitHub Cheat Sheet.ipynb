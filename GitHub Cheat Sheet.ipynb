{
 "cells": [
  {
   "cell_type": "markdown",
   "metadata": {},
   "source": [
    "Clone a repository in Github means to create a local copy of the code provided by the developer. To do this in the terminal:"
   ]
  },
  {
   "cell_type": "markdown",
   "metadata": {},
   "source": [
    "__git clone 'HTTPS-link-of-the-repository'__"
   ]
  },
  {
   "cell_type": "markdown",
   "metadata": {},
   "source": [
    "To store Jupyter notebook on Github, first we need to connect with the repository by cloning, then type in the terminal the following commands:"
   ]
  },
  {
   "cell_type": "markdown",
   "metadata": {},
   "source": [
    "**cd ~/<repo_name>**\n",
    "\n",
    "**git status**\n",
    "\n",
    "**git add -A**\n",
    "\n",
    "**git commit -m \"Update\"**\n",
    "\n",
    "**git push origin master**"
   ]
  },
  {
   "cell_type": "markdown",
   "metadata": {},
   "source": [
    "To update a Github forked repository, first we need to clone the local forked repository. Then, add the original repository as the remote. Then we can fetch all the branches from that upstream repository, and rebase all of our work to continue working on the upstream version. For more information, visit this link: https://stackoverflow.com/questions/7244321/how-do-i-update-a-github-forked-repository/7244456#7244456"
   ]
  },
  {
   "cell_type": "markdown",
   "metadata": {},
   "source": [
    "**git remote add upstream https://github.com/whoever/whatever.git**\n",
    "\n",
    "**git fetch upstream**\n",
    "\n",
    "**git checkout master**\n",
    "\n",
    "**git rebase upstream/master**\n",
    "\n",
    "**git push -f origin master**"
   ]
  }
 ],
 "metadata": {
  "kernelspec": {
   "display_name": "Python 3",
   "language": "python",
   "name": "python3"
  },
  "language_info": {
   "codemirror_mode": {
    "name": "ipython",
    "version": 3
   },
   "file_extension": ".py",
   "mimetype": "text/x-python",
   "name": "python",
   "nbconvert_exporter": "python",
   "pygments_lexer": "ipython3",
   "version": "3.6.3"
  }
 },
 "nbformat": 4,
 "nbformat_minor": 2
}
