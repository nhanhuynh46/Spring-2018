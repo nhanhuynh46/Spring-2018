{
 "cells": [
  {
   "cell_type": "code",
   "execution_count": 28,
   "metadata": {},
   "outputs": [
    {
     "name": "stdout",
     "output_type": "stream",
     "text": [
      "Requirement already satisfied: numpy in /srv/venv/lib/python3.6/site-packages\n",
      "Requirement already satisfied: pandas in /srv/venv/lib/python3.6/site-packages\n",
      "Requirement already satisfied: pytz>=2011k in /srv/venv/lib/python3.6/site-packages (from pandas)\n",
      "Requirement already satisfied: python-dateutil>=2 in /srv/venv/lib/python3.6/site-packages (from pandas)\n",
      "Requirement already satisfied: numpy>=1.9.0 in /srv/venv/lib/python3.6/site-packages (from pandas)\n",
      "Requirement already satisfied: six>=1.5 in /srv/venv/lib/python3.6/site-packages (from python-dateutil>=2->pandas)\n"
     ]
    }
   ],
   "source": [
    "import sys\n",
    "!{sys.executable} -m pip install numpy\n",
    "!{sys.executable} -m pip install pandas"
   ]
  },
  {
   "cell_type": "code",
   "execution_count": 29,
   "metadata": {},
   "outputs": [
    {
     "name": "stdout",
     "output_type": "stream",
     "text": [
      "shape of x: (1000, 7)\n",
      "unique values in x: [1 2 3 4 5 6]\n"
     ]
    }
   ],
   "source": [
    "import numpy as np # import library numpy, store as np\n",
    "import pandas as pd \n",
    "\n",
    "n = 7              # number of observations is 7\n",
    "S = 1000           # number of simulations is 1000\n",
    "\n",
    "x = np.random.randint(size=(S, n), low=1, high=7)\n",
    "print(\"shape of x:\", x.shape)\n",
    "print(\"unique values in x:\", np.unique(x))"
   ]
  },
  {
   "cell_type": "code",
   "execution_count": 30,
   "metadata": {},
   "outputs": [
    {
     "data": {
      "text/plain": [
       "array([[3, 3, 5, ..., 2, 6, 6],\n",
       "       [6, 4, 3, ..., 4, 4, 3],\n",
       "       [2, 6, 2, ..., 3, 4, 5],\n",
       "       ...,\n",
       "       [6, 4, 4, ..., 5, 4, 6],\n",
       "       [3, 2, 1, ..., 6, 2, 4],\n",
       "       [6, 3, 6, ..., 6, 3, 3]])"
      ]
     },
     "execution_count": 30,
     "metadata": {},
     "output_type": "execute_result"
    }
   ],
   "source": [
    "x"
   ]
  },
  {
   "cell_type": "code",
   "execution_count": 31,
   "metadata": {},
   "outputs": [
    {
     "name": "stdout",
     "output_type": "stream",
     "text": [
      "one row: [3 3 5 1 2 6 6]\n",
      "one value: 2\n"
     ]
    }
   ],
   "source": [
    "print(\"one row:\", x[0])    \n",
    "print(\"one value:\", x[0, 4])"
   ]
  },
  {
   "cell_type": "code",
   "execution_count": 32,
   "metadata": {},
   "outputs": [
    {
     "name": "stdout",
     "output_type": "stream",
     "text": [
      "one row: [6 3 6 6 6 3 3]\n",
      "one value: 3\n"
     ]
    }
   ],
   "source": [
    "print(\"one row:\", x[-1])\n",
    "print(\"one value:\", x[-1, -1])"
   ]
  },
  {
   "cell_type": "code",
   "execution_count": 33,
   "metadata": {},
   "outputs": [
    {
     "name": "stdout",
     "output_type": "stream",
     "text": [
      "object method: 3.7142857142857144 function: 3.7142857142857144\n"
     ]
    }
   ],
   "source": [
    "print(\"object method:\", x[0].mean(), \"function:\", np.mean(x[0]))"
   ]
  },
  {
   "cell_type": "code",
   "execution_count": 34,
   "metadata": {},
   "outputs": [
    {
     "name": "stdout",
     "output_type": "stream",
     "text": [
      "x.mean(axis=0)   : [3.578 3.517 3.453 3.58  3.529 3.583 3.413]\n",
      "temp.mean(0)[3]  : 3.58\n",
      "temp[:,3].mean() : 3.58\n"
     ]
    }
   ],
   "source": [
    "temp = x.mean(axis=0)  # axis=0 is the direction --> column direction --> calculate mean for each column\n",
    "print(\"x.mean(axis=0)   :\", temp)\n",
    "print(\"temp.mean(0)[3]  :\", temp[3]) # extract the 4th element in the column mean array\n",
    "print(\"temp[:,3].mean() :\", x[:,3].mean())"
   ]
  },
  {
   "cell_type": "code",
   "execution_count": 35,
   "metadata": {},
   "outputs": [],
   "source": [
    "xmean = x.mean(axis=1)\n",
    "# print(\"xmean:\", xmean)"
   ]
  },
  {
   "cell_type": "code",
   "execution_count": 36,
   "metadata": {},
   "outputs": [
    {
     "name": "stdout",
     "output_type": "stream",
     "text": [
      "Requirement already satisfied: matplotlib in /srv/venv/lib/python3.6/site-packages\r\n",
      "Requirement already satisfied: seaborn in /srv/venv/lib/python3.6/site-packages\r\n",
      "Requirement already satisfied: cycler>=0.10 in /srv/venv/lib/python3.6/site-packages (from matplotlib)\r\n",
      "Requirement already satisfied: kiwisolver>=1.0.1 in /srv/venv/lib/python3.6/site-packages (from matplotlib)\r\n",
      "Requirement already satisfied: pyparsing!=2.0.4,!=2.1.2,!=2.1.6,>=2.0.1 in /srv/venv/lib/python3.6/site-packages (from matplotlib)\r\n",
      "Requirement already satisfied: six>=1.10 in /srv/venv/lib/python3.6/site-packages (from matplotlib)\r\n",
      "Requirement already satisfied: numpy>=1.7.1 in /srv/venv/lib/python3.6/site-packages (from matplotlib)\r\n",
      "Requirement already satisfied: pytz in /srv/venv/lib/python3.6/site-packages (from matplotlib)\r\n",
      "Requirement already satisfied: python-dateutil>=2.1 in /srv/venv/lib/python3.6/site-packages (from matplotlib)\r\n",
      "Requirement already satisfied: setuptools in /srv/venv/lib/python3.6/site-packages (from kiwisolver>=1.0.1->matplotlib)\r\n"
     ]
    }
   ],
   "source": [
    "import sys\n",
    "!{sys.executable} -m pip install matplotlib seaborn"
   ]
  },
  {
   "cell_type": "code",
   "execution_count": 37,
   "metadata": {},
   "outputs": [],
   "source": [
    "import matplotlib.pyplot as plt\n",
    "import seaborn; seaborn.set()  # set plot style\n",
    "from IPython.core.pylabtools import figsize"
   ]
  },
  {
   "cell_type": "code",
   "execution_count": 39,
   "metadata": {},
   "outputs": [
    {
     "data": {
      "image/png": "[encoded data removed]",
      "text/plain": [
       "<Figure size 1080x648 with 1 Axes>"
      ]
     },
     "metadata": {},
     "output_type": "display_data"
    }
   ],
   "source": [
    "figsize(15, 9)\n",
    "plt.hist(xmean);\n",
    "plt.xlabel('sample mean');\n",
    "plt.ylabel('count');"
   ]
  },
  {
   "cell_type": "code",
   "execution_count": null,
   "metadata": {},
   "outputs": [],
   "source": []
  }
 ],
 "metadata": {
  "kernelspec": {
   "display_name": "Python 3",
   "language": "python",
   "name": "python3"
  },
  "language_info": {
   "codemirror_mode": {
    "name": "ipython",
    "version": 3
   },
   "file_extension": ".py",
   "mimetype": "text/x-python",
   "name": "python",
   "nbconvert_exporter": "python",
   "pygments_lexer": "ipython3",
   "version": "3.6.3"
  }
 },
 "nbformat": 4,
 "nbformat_minor": 2
}
