{
 "cells": [
  {
   "cell_type": "markdown",
   "metadata": {},
   "source": [
    "# Data and Uncertainty\n",
    "\n",
    "- In probability, underlying processes are represented by a __model__ (often some distribution)   \n",
    "    e.g., flipping a coin, rolling a dice, etc.\n",
    "    \n",
    "- In reality, even for very simple processes, underlying process is not easily described   \n",
    "    e.g., what is the true $p$ of a coin? pmf of a dice?,\n",
    "    \n",
    "- Many real-world processes are much more complicated; however, we still try  \n",
    "    > _Now it would be very remarkable if any system existing in the real world could be \n",
    "    exactly represented by any simple model. However, cunningly chosen parsimonious models \n",
    "    often do provide remarkably useful approximations. \n",
    "    [... example of modeling gas in physics ...]  \n",
    "    For such a model there is no need to ask the question \"Is the model true?\". \n",
    "    If \"truth\" is to be the \"whole truth\" the answer must be \"No\". \n",
    "    The only question of interest is \"Is the model illuminating and useful?\"._  \n",
    "    George Box\n",
    "\n",
    "- If you build a model with random variables having known distributions, we can simulate the outcomes\n",
    "\n",
    "- If the model is accurate to some degree, we can say a lot about the outcome: i.e., the model is useful\n",
    "\n",
    "- However, often building models from ground up is practically impossible\n",
    "    e.g., where do you begin to build a model for NCAA tournament? human behavior?\n",
    "\n",
    "- Often we are interested in inference and/or prediction\n",
    "\n",
    "    - __Inference__: making conclusions based on data  \n",
    "        e.g., parameters such as winning probability for each team\n",
    "\n",
    "    - __Prediction__: making guesses about the next outcome  \n",
    "        e.g., who will win?\n",
    "        \n",
    "- Monte Carlo simulation is a good tool to illustrate the relationship between the generating process and data"
   ]
  },
  {
   "cell_type": "markdown",
   "metadata": {},
   "source": [
    "## Monte Carlo simulation\n",
    "\n",
    "First, recall the definition of a random sample:\n",
    "\n",
    "> __Random sample__: Let $X_1,X_2,\\dots,X_n$ be a set of $n$ independent random variables, \n",
    "all having the _same pdf_, $f_X$. Then $X_1,X_2,\\dots,X_n$ are said to be a _random sample of size n_.\n",
    "\n",
    "- Random sample: $X_1,X_2,\\dots,X_n$\n",
    "\n",
    "- Random measurements: $x_1,x_2,\\dots,x_n$\n",
    "\n",
    "While random sample is made up of random variables,\n",
    "__iid observations__ (independent identically distributed)\n",
    "$x_1, x_2,\\dots x_n$ are $n$-measurements (numbers) coming from $X_1,X_2,\\dots,X_n$\n",
    "\n",
    "- In order to capture randomness of _random sample_ with _iid observations_, \n",
    "    we can generate many sets of random measurements   \n",
    "    $$\n",
    "    x_1^{(1)},x_2^{(1)},\\dots,x_n^{(1)}\\\\\n",
    "    x_1^{(2)},x_2^{(2)},\\dots,x_n^{(2)}\\\\\n",
    "    \\vdots\\\\\n",
    "    x_1^{(S)},x_2^{(S)},\\dots,x_n^{(S)}\n",
    "    $$\n",
    "\n",
    "- As an example, let's simulate convergence of the sample mean to the true mean\n",
    "\n",
    "### Consistency of the sample mean: dice example\n",
    "\n",
    "Suppose that $X_1,X_2,\\dots,X_n$ is a random sample of size $n$ from a discrete pdf $p_X(k;\\mu)$, where $E(X)=\\mu$ and $\\text{Var}(X) = \\sigma^2 < \\infty$. Let $\\hat\\mu_n = \\frac{1}{n}\\sum_i^n X_i$. Is $\\hat\\mu_n$ a consistent estimator for $\\mu$?\n",
    "\n",
    "Since we are simulating dice throw with a pmf, the _model_ is perfect. Hence, we know the true value of $E(X)=\\mu=3.5$ and $\\text{Var}(X) = \\sigma^2 = 2.917$. Also, sampling distribution says $E(\\hat\\mu_n)=\\mu$ and $$\\text{Var}(\\hat\\mu_n) = \\text{Var}\\left(\\frac{1}{n}\\sum_{i=1}^n X_i \\right) = \\frac{1}{n^2} \\sum_{i=1}^n \\text{Var}(X_i)= \\frac{\\sigma^2}{n}$$. We will verify this empirically.\n",
    "\n",
    "First, generate many random observations $(x_1^{(s)},x_2^{(s)},\\dots ,x_n^{(s)})$ \n",
    "for $s=1,2,\\dots, 100$ and $n=50$. Each simulation is the _data_ of 50 dice throws.\n",
    "Put them into a numpy array"
   ]
  },
  {
   "cell_type": "code",
   "execution_count": 1,
   "metadata": {},
   "outputs": [
    {
     "name": "stdout",
     "output_type": "stream",
     "text": [
      "shape of x: (10, 7)\n",
      "unique values in x: [1 2 3 4 5 6]\n"
     ]
    }
   ],
   "source": [
    "import numpy as np\n",
    "import pandas as pd\n",
    "\n",
    "n = 7\n",
    "S = 10\n",
    "\n",
    "x = np.random.randint(size=(S, n), low=1, high=7)\n",
    "print(\"shape of x:\", x.shape)\n",
    "print(\"unique values in x:\", np.unique(x))"
   ]
  },
  {
   "cell_type": "markdown",
   "metadata": {},
   "source": [
    "In `x`, one set of observations is one row. Get one row by indexing into `x`. First index is for the row:"
   ]
  },
  {
   "cell_type": "code",
   "execution_count": 2,
   "metadata": {},
   "outputs": [
    {
     "data": {
      "text/plain": [
       "array([[3, 6, 2, 4, 6, 6, 1],\n",
       "       [4, 6, 1, 4, 6, 2, 2],\n",
       "       [5, 6, 6, 5, 2, 4, 2],\n",
       "       [3, 2, 1, 5, 2, 2, 6],\n",
       "       [3, 3, 3, 6, 5, 1, 2],\n",
       "       [2, 2, 5, 1, 1, 6, 2],\n",
       "       [1, 6, 1, 2, 2, 1, 3],\n",
       "       [1, 6, 6, 3, 4, 6, 3],\n",
       "       [5, 5, 5, 5, 2, 4, 5],\n",
       "       [2, 4, 6, 2, 3, 1, 1]])"
      ]
     },
     "execution_count": 2,
     "metadata": {},
     "output_type": "execute_result"
    }
   ],
   "source": [
    "x"
   ]
  },
  {
   "cell_type": "code",
   "execution_count": 3,
   "metadata": {},
   "outputs": [
    {
     "name": "stdout",
     "output_type": "stream",
     "text": [
      "one row: [3 6 2 4 6 6 1]\n",
      "one value: 6\n"
     ]
    }
   ],
   "source": [
    "print(\"one row:\", x[0])    \n",
    "print(\"one value:\", x[0, 4])"
   ]
  },
  {
   "cell_type": "code",
   "execution_count": 4,
   "metadata": {},
   "outputs": [
    {
     "name": "stdout",
     "output_type": "stream",
     "text": [
      "one row: [2 4 6 2 3 1 1]\n",
      "one value: 1\n"
     ]
    }
   ],
   "source": [
    "print(\"one row:\", x[-1])\n",
    "print(\"one value:\", x[-1, -1])"
   ]
  },
  {
   "cell_type": "markdown",
   "metadata": {},
   "source": [
    "Numpy offers many convenient and flexible ways to slice and get a subset of numpy arrays (Chapter 2 in Vanderplas). In particular, [_views_ of arrays](https://jakevdp.github.io/PythonDataScienceHandbook/02.02-the-basics-of-numpy-arrays.html#Subarrays-as-no-copy-views) are useful. This is in contrast to R that always creates copies (even in function calls).\n",
    "\n",
    "Numpy makes array operations simple. For example, we can't use add a value to the list:"
   ]
  },
  {
   "cell_type": "code",
   "execution_count": 5,
   "metadata": {},
   "outputs": [],
   "source": [
    "## [1,2,3]+3  ## causes error"
   ]
  },
  {
   "cell_type": "markdown",
   "metadata": {},
   "source": [
    "In addition to common arithmetic functions (called ufuncs) other useful functions are:"
   ]
  },
  {
   "cell_type": "code",
   "execution_count": 6,
   "metadata": {},
   "outputs": [
    {
     "data": {
      "text/plain": [
       "array([[12, 18,  3, 12, 18,  6,  6],\n",
       "       [24, 36,  6, 24, 36, 12, 12],\n",
       "       [ 8, 12,  2,  8, 12,  4,  4],\n",
       "       [16, 24,  4, 16, 24,  8,  8],\n",
       "       [24, 36,  6, 24, 36, 12, 12],\n",
       "       [24, 36,  6, 24, 36, 12, 12],\n",
       "       [ 4,  6,  1,  4,  6,  2,  2]])"
      ]
     },
     "execution_count": 6,
     "metadata": {},
     "output_type": "execute_result"
    }
   ],
   "source": [
    "np.multiply.outer(x[0],x[1]) ## outer product of first two rows"
   ]
  },
  {
   "cell_type": "code",
   "execution_count": 7,
   "metadata": {},
   "outputs": [
    {
     "data": {
      "text/plain": [
       "array([[ 9,  9,  9,  5,  6,  5,  9,  9,  8,  7],\n",
       "       [10, 10, 10,  6,  7,  6, 10, 10,  9,  8],\n",
       "       [11, 11, 11,  7,  8,  7, 11, 11, 10,  9],\n",
       "       [ 9,  9,  9,  5,  6,  5,  9,  9,  8,  7],\n",
       "       [ 9,  9,  9,  5,  6,  5,  9,  9,  8,  7],\n",
       "       [ 8,  8,  8,  4,  5,  4,  8,  8,  7,  6],\n",
       "       [ 7,  7,  7,  3,  4,  3,  7,  7,  6,  5],\n",
       "       [ 7,  7,  7,  3,  4,  3,  7,  7,  6,  5],\n",
       "       [11, 11, 11,  7,  8,  7, 11, 11, 10,  9],\n",
       "       [ 8,  8,  8,  4,  5,  4,  8,  8,  7,  6]])"
      ]
     },
     "execution_count": 7,
     "metadata": {},
     "output_type": "execute_result"
    }
   ],
   "source": [
    "np.add.outer(x[:,0],x[:,1]) ## outer sum of first two columns"
   ]
  },
  {
   "cell_type": "markdown",
   "metadata": {},
   "source": [
    "Note that sample mean of one set of random observations can be computed by:"
   ]
  },
  {
   "cell_type": "code",
   "execution_count": 8,
   "metadata": {},
   "outputs": [
    {
     "name": "stdout",
     "output_type": "stream",
     "text": [
      "object method: 4.0 function: 4.0\n"
     ]
    }
   ],
   "source": [
    "print(\"object method:\", x[0].mean(), \"function:\", np.mean(x[0]))"
   ]
  },
  {
   "cell_type": "markdown",
   "metadata": {},
   "source": [
    "Internally, they are equivalent."
   ]
  },
  {
   "cell_type": "code",
   "execution_count": 9,
   "metadata": {},
   "outputs": [],
   "source": [
    "x0 = x[0]\n",
    "## x0.mean??\n",
    "## np.mean??"
   ]
  },
  {
   "cell_type": "markdown",
   "metadata": {},
   "source": [
    "Mean of one row of `x` is sample mean of one simulation: i.e., mean of 50 dice throws. \n",
    "How do you compute mean of each simulation? Numpy `axis` refers to the direction of the array. \n",
    "\n",
    "Giving argument `axis=0`, the mean function computes column averages."
   ]
  },
  {
   "cell_type": "code",
   "execution_count": 10,
   "metadata": {},
   "outputs": [
    {
     "name": "stdout",
     "output_type": "stream",
     "text": [
      "x.mean(axis=0)   : [ 2.9  4.6  3.6  3.7  3.3  3.3  2.7]\n",
      "temp.mean(0)[3]  : 3.7\n",
      "temp[:,3].mean() : 3.7\n"
     ]
    }
   ],
   "source": [
    "temp = x.mean(axis=0)\n",
    "print(\"x.mean(axis=0)   :\", temp)\n",
    "print(\"temp.mean(0)[3]  :\", temp[3])\n",
    "print(\"temp[:,3].mean() :\", x[:,3].mean())"
   ]
  },
  {
   "cell_type": "markdown",
   "metadata": {},
   "source": [
    "Giving argument `axis=1`, the mean function computes row averages."
   ]
  },
  {
   "cell_type": "code",
   "execution_count": 11,
   "metadata": {},
   "outputs": [
    {
     "name": "stdout",
     "output_type": "stream",
     "text": [
      "xmean: [ 4.          3.57142857  4.28571429  3.          3.28571429  2.71428571\n",
      "  2.28571429  4.14285714  4.42857143  2.71428571]\n"
     ]
    }
   ],
   "source": [
    "xmean = x.mean(axis=1)\n",
    "print(\"xmean:\", xmean)"
   ]
  },
  {
   "cell_type": "markdown",
   "metadata": {},
   "source": [
    "Note that `xmean` contains many observations of the sample mean $\\hat\\mu_n$. Plot the histogram of `xmean`:"
   ]
  },
  {
   "cell_type": "code",
   "execution_count": 12,
   "metadata": {},
   "outputs": [
    {
     "data": {
      "image/png": "[encoded data removed]",
      "text/plain": [
       "<matplotlib.figure.Figure at 0x7f9e3b998128>"
      ]
     },
     "metadata": {},
     "output_type": "display_data"
    }
   ],
   "source": [
    "%matplotlib inline\n",
    "import matplotlib.pyplot as plt\n",
    "import seaborn; seaborn.set()  # set plot style\n",
    "from IPython.core.pylabtools import figsize\n",
    "figsize(11, 9)\n",
    "plt.hist(xmean);\n",
    "plt.xlabel('sample mean');\n",
    "plt.ylabel('count');"
   ]
  },
  {
   "cell_type": "markdown",
   "metadata": {},
   "source": [
    "## Effect of Sample Size $n$"
   ]
  },
  {
   "cell_type": "markdown",
   "metadata": {},
   "source": [
    "Chebyshev's inequality says that \n",
    "$$ \\Pr(|\\hat\\mu_n - \\mu| < \\epsilon) > 1 - \\frac{\\text{Var}(\\hat\\mu_n)}{\\epsilon^2} \n",
    "= 1- \\frac{\\sigma^2}{n\\epsilon^2} $$\n",
    "\n",
    "Recall that $\\sigma^2=2.917$ is the variance of outcomes of dice represented as a random variable. \n",
    "Fixing the error to $\\epsilon = 1$ makes the RHS a function of $n$.\n",
    "\n",
    "In order to empirically verify Chebyshev's inequality, we will simulate the dice with a function."
   ]
  },
  {
   "cell_type": "code",
   "execution_count": 13,
   "metadata": {},
   "outputs": [],
   "source": [
    "## throw dice\n",
    "def throw_dice(n=1):\n",
    "    \n",
    "    from numpy.random import randint\n",
    "    \n",
    "    return(randint(size=n, low=1, high=7))\n",
    "\n",
    "## throw dice n times, compute mean\n",
    "def muhat_n(n=1):\n",
    "    \n",
    "    return(throw_dice(n).mean())"
   ]
  },
  {
   "cell_type": "markdown",
   "metadata": {},
   "source": [
    "Above functions return numpy arrays. We will compile results below in a bare list. Then create Pandas data frame from it (more on Pandas later). Some automatic type conversion is possible, but more strict than R."
   ]
  },
  {
   "cell_type": "code",
   "execution_count": 14,
   "metadata": {},
   "outputs": [
    {
     "data": {
      "text/html": [
       "<div>\n",
       "<table border=\"1\" class=\"dataframe\">\n",
       "  <thead>\n",
       "    <tr style=\"text-align: right;\">\n",
       "      <th></th>\n",
       "      <th>muhat_n</th>\n",
       "      <th>n_throws</th>\n",
       "    </tr>\n",
       "  </thead>\n",
       "  <tbody>\n",
       "    <tr>\n",
       "      <th>0</th>\n",
       "      <td>4.000000</td>\n",
       "      <td>20</td>\n",
       "    </tr>\n",
       "    <tr>\n",
       "      <th>1</th>\n",
       "      <td>3.433333</td>\n",
       "      <td>30</td>\n",
       "    </tr>\n",
       "    <tr>\n",
       "      <th>2</th>\n",
       "      <td>3.275000</td>\n",
       "      <td>40</td>\n",
       "    </tr>\n",
       "    <tr>\n",
       "      <th>3</th>\n",
       "      <td>3.840000</td>\n",
       "      <td>50</td>\n",
       "    </tr>\n",
       "    <tr>\n",
       "      <th>4</th>\n",
       "      <td>3.450000</td>\n",
       "      <td>60</td>\n",
       "    </tr>\n",
       "    <tr>\n",
       "      <th>5</th>\n",
       "      <td>3.685714</td>\n",
       "      <td>70</td>\n",
       "    </tr>\n",
       "    <tr>\n",
       "      <th>6</th>\n",
       "      <td>3.775000</td>\n",
       "      <td>80</td>\n",
       "    </tr>\n",
       "    <tr>\n",
       "      <th>7</th>\n",
       "      <td>3.655556</td>\n",
       "      <td>90</td>\n",
       "    </tr>\n",
       "    <tr>\n",
       "      <th>8</th>\n",
       "      <td>3.790000</td>\n",
       "      <td>100</td>\n",
       "    </tr>\n",
       "    <tr>\n",
       "      <th>9</th>\n",
       "      <td>3.309091</td>\n",
       "      <td>110</td>\n",
       "    </tr>\n",
       "  </tbody>\n",
       "</table>\n",
       "</div>"
      ],
      "text/plain": [
       "    muhat_n  n_throws\n",
       "0  4.000000        20\n",
       "1  3.433333        30\n",
       "2  3.275000        40\n",
       "3  3.840000        50\n",
       "4  3.450000        60\n",
       "5  3.685714        70\n",
       "6  3.775000        80\n",
       "7  3.655556        90\n",
       "8  3.790000       100\n",
       "9  3.309091       110"
      ]
     },
     "execution_count": 14,
     "metadata": {},
     "output_type": "execute_result"
    }
   ],
   "source": [
    "n_choices = np.arange(20, 10001, 10)\n",
    "\n",
    "results = []\n",
    "for n in n_choices:\n",
    "    results += [muhat_n(n)] ## appends to list\n",
    "\n",
    "df = pd.DataFrame({\n",
    "    'n_throws': n_choices,\n",
    "    'muhat_n' : results,\n",
    "})\n",
    "df[:10]"
   ]
  },
  {
   "cell_type": "code",
   "execution_count": 15,
   "metadata": {},
   "outputs": [
    {
     "data": {
      "image/png": "[encoded data removed]",
      "text/plain": [
       "<matplotlib.figure.Figure at 0x7f9e39ff5f28>"
      ]
     },
     "metadata": {},
     "output_type": "display_data"
    }
   ],
   "source": [
    "figsize(11, 9)\n",
    "plt.plot(df['n_throws'], df['muhat_n']);\n",
    "plt.xlabel(\"Number of dice throws (n)\");\n",
    "plt.ylabel(\"Average of n dice throws\");"
   ]
  },
  {
   "cell_type": "markdown",
   "metadata": {},
   "source": [
    "We can build on the result by showing where 95% bound according to Chebyshev's inequality.\n",
    "\n",
    "If we choose $\\epsilon = 1$ and $n$ is fixed at 50. Then, plugging in $\\sigma^2$, we get:\n",
    "$$ \n",
    "1- \\frac{2.917}{n\\cdot \\epsilon^2} = 0.95\\\\\n",
    "\\epsilon = \\sqrt{\\frac{2.917}{0.05\\cdot n}}$$\n",
    "\n",
    "Following computes error threshold $epsilon$ guaranteed by Chebyshev's threshold."
   ]
  },
  {
   "cell_type": "code",
   "execution_count": 16,
   "metadata": {},
   "outputs": [],
   "source": [
    "epsilon_n = np.sqrt(2.917/(0.05*n_choices))\n",
    "df['epsilon'] = epsilon_n"
   ]
  },
  {
   "cell_type": "markdown",
   "metadata": {},
   "source": [
    "Plot the new plot\n",
    "$$ \\Pr(|\\hat\\mu_n - \\mu| < \\epsilon) > 0.95\\\\\n",
    "\\Pr(-\\epsilon_n < \\hat\\mu_n - \\mu < \\epsilon_n)  > 0.95 $$"
   ]
  },
  {
   "cell_type": "code",
   "execution_count": 17,
   "metadata": {},
   "outputs": [
    {
     "data": {
      "image/png": "[encoded data removed]",
      "text/plain": [
       "<matplotlib.figure.Figure at 0x7f9e3085aba8>"
      ]
     },
     "metadata": {},
     "output_type": "display_data"
    }
   ],
   "source": [
    "figsize(11, 9)\n",
    "plt.plot((df['n_throws']),  df['muhat_n']-3.5);    ## subtract true mean 3.5\n",
    "plt.plot((df['n_throws']),  df['epsilon'], '--r');\n",
    "plt.plot((df['n_throws']), -df['epsilon'], '--r');\n",
    "plt.xlabel(\"Number of dice throws (n)\");\n",
    "plt.ylabel(\"Average of n dice throws\");"
   ]
  },
  {
   "cell_type": "code",
   "execution_count": 18,
   "metadata": {},
   "outputs": [],
   "source": [
    "## repeat computing mean of n throws s times\n",
    "def repeat_muhat_n(n=1, s=100):\n",
    "    \n",
    "    out = [muhat_n(n) for one in range(s)]\n",
    "    \n",
    "    return({ 'min': min(out), 'max': max(out), 'mean': sum(out)/s})"
   ]
  },
  {
   "cell_type": "code",
   "execution_count": 19,
   "metadata": {},
   "outputs": [
    {
     "data": {
      "text/plain": [
       "{'max': 4.7999999999999998,\n",
       " 'mean': 3.5030000000000014,\n",
       " 'min': 1.8999999999999999}"
      ]
     },
     "execution_count": 19,
     "metadata": {},
     "output_type": "execute_result"
    }
   ],
   "source": [
    "repeat_muhat_n(10)"
   ]
  },
  {
   "cell_type": "code",
   "execution_count": 20,
   "metadata": {},
   "outputs": [
    {
     "data": {
      "text/html": [
       "<div>\n",
       "<table border=\"1\" class=\"dataframe\">\n",
       "  <thead>\n",
       "    <tr style=\"text-align: right;\">\n",
       "      <th></th>\n",
       "      <th>max</th>\n",
       "      <th>mean</th>\n",
       "      <th>min</th>\n",
       "      <th>n_throws</th>\n",
       "      <th>epsilon</th>\n",
       "    </tr>\n",
       "  </thead>\n",
       "  <tbody>\n",
       "    <tr>\n",
       "      <th>0</th>\n",
       "      <td>4.500000</td>\n",
       "      <td>3.499000</td>\n",
       "      <td>2.600000</td>\n",
       "      <td>20</td>\n",
       "      <td>1.707923</td>\n",
       "    </tr>\n",
       "    <tr>\n",
       "      <th>1</th>\n",
       "      <td>4.366667</td>\n",
       "      <td>3.552667</td>\n",
       "      <td>2.966667</td>\n",
       "      <td>30</td>\n",
       "      <td>1.394513</td>\n",
       "    </tr>\n",
       "    <tr>\n",
       "      <th>2</th>\n",
       "      <td>4.275000</td>\n",
       "      <td>3.504250</td>\n",
       "      <td>2.900000</td>\n",
       "      <td>40</td>\n",
       "      <td>1.207684</td>\n",
       "    </tr>\n",
       "    <tr>\n",
       "      <th>3</th>\n",
       "      <td>4.140000</td>\n",
       "      <td>3.534200</td>\n",
       "      <td>3.000000</td>\n",
       "      <td>50</td>\n",
       "      <td>1.080185</td>\n",
       "    </tr>\n",
       "    <tr>\n",
       "      <th>4</th>\n",
       "      <td>4.150000</td>\n",
       "      <td>3.514833</td>\n",
       "      <td>3.050000</td>\n",
       "      <td>60</td>\n",
       "      <td>0.986070</td>\n",
       "    </tr>\n",
       "    <tr>\n",
       "      <th>5</th>\n",
       "      <td>3.928571</td>\n",
       "      <td>3.512857</td>\n",
       "      <td>3.071429</td>\n",
       "      <td>70</td>\n",
       "      <td>0.912923</td>\n",
       "    </tr>\n",
       "    <tr>\n",
       "      <th>6</th>\n",
       "      <td>3.900000</td>\n",
       "      <td>3.517375</td>\n",
       "      <td>3.000000</td>\n",
       "      <td>80</td>\n",
       "      <td>0.853961</td>\n",
       "    </tr>\n",
       "    <tr>\n",
       "      <th>7</th>\n",
       "      <td>4.011111</td>\n",
       "      <td>3.510778</td>\n",
       "      <td>3.100000</td>\n",
       "      <td>90</td>\n",
       "      <td>0.805122</td>\n",
       "    </tr>\n",
       "    <tr>\n",
       "      <th>8</th>\n",
       "      <td>3.920000</td>\n",
       "      <td>3.515000</td>\n",
       "      <td>2.990000</td>\n",
       "      <td>100</td>\n",
       "      <td>0.763806</td>\n",
       "    </tr>\n",
       "    <tr>\n",
       "      <th>9</th>\n",
       "      <td>3.890909</td>\n",
       "      <td>3.515727</td>\n",
       "      <td>3.181818</td>\n",
       "      <td>110</td>\n",
       "      <td>0.728261</td>\n",
       "    </tr>\n",
       "  </tbody>\n",
       "</table>\n",
       "</div>"
      ],
      "text/plain": [
       "        max      mean       min  n_throws   epsilon\n",
       "0  4.500000  3.499000  2.600000        20  1.707923\n",
       "1  4.366667  3.552667  2.966667        30  1.394513\n",
       "2  4.275000  3.504250  2.900000        40  1.207684\n",
       "3  4.140000  3.534200  3.000000        50  1.080185\n",
       "4  4.150000  3.514833  3.050000        60  0.986070\n",
       "5  3.928571  3.512857  3.071429        70  0.912923\n",
       "6  3.900000  3.517375  3.000000        80  0.853961\n",
       "7  4.011111  3.510778  3.100000        90  0.805122\n",
       "8  3.920000  3.515000  2.990000       100  0.763806\n",
       "9  3.890909  3.515727  3.181818       110  0.728261"
      ]
     },
     "execution_count": 20,
     "metadata": {},
     "output_type": "execute_result"
    }
   ],
   "source": [
    "results = []\n",
    "for n in n_choices:\n",
    "    results += [repeat_muhat_n(n)] ## appends to list\n",
    "\n",
    "df_new = pd.DataFrame(results)\n",
    "df_new['n_throws'] = n_choices\n",
    "df_new['epsilon'] = epsilon_n\n",
    "df_new[:10]"
   ]
  },
  {
   "cell_type": "code",
   "execution_count": null,
   "metadata": {},
   "outputs": [],
   "source": [
    "figsize(11, 9)\n",
    "plt.plot((df_new['n_throws']),  df_new['mean']-3.5, '-g');    ## subtract true mean 3.5\n",
    "plt.plot((df_new['n_throws']),  df_new['min'] -3.5, ':g');    ## subtract true mean 3.5\n",
    "plt.plot((df_new['n_throws']),  df_new['max'] -3.5, ':g');    ## subtract true mean 3.5\n",
    "plt.plot((df_new['n_throws']),  df_new['epsilon'], '--r');\n",
    "plt.plot((df_new['n_throws']), -df_new['epsilon'], '--r');\n",
    "plt.xlabel(\"Number of dice throws (n)\");\n",
    "plt.ylabel(\"Average of n dice throws\");"
   ]
  },
  {
   "cell_type": "markdown",
   "metadata": {},
   "source": [
    "## Repeat for 90% bound\n",
    "\n",
    "Plot $\\epsilon$ bounds corresponding to 80% and 90% probability. Interpret these bounds."
   ]
  }
 ],
 "metadata": {
  "kernelspec": {
   "display_name": "Python 3",
   "language": "python",
   "name": "python3"
  },
  "language_info": {
   "codemirror_mode": {
    "name": "ipython",
    "version": 3
   },
   "file_extension": ".py",
   "mimetype": "text/x-python",
   "name": "python",
   "nbconvert_exporter": "python",
   "pygments_lexer": "ipython3",
   "version": "3.6.3"
  }
 },
 "nbformat": 4,
 "nbformat_minor": 2
}
