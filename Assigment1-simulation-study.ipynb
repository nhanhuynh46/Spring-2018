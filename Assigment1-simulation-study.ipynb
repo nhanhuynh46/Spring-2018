{
 "cells": [
  {
   "cell_type": "markdown",
   "metadata": {},
   "source": [
    "# Pstat 234 - Spring 2018\n",
    "\n",
    "## Assignment 1\n",
    "\n",
    "## Nhan Huynh\n",
    "\n",
    "### Simulation study for Goodness of fit test\n"
   ]
  },
  {
   "cell_type": "markdown",
   "metadata": {},
   "source": [
    "__Problem:__ To ascertain whether a certain die was fair, $1000$ rolls of the die were recorded, with the result that the numbers of times the die landed $i, i=1,2,3,4,5,6$ were, respectively, $158, 172, 164, 181, 160, 165$. Approximate the p-value of the test that the die was fair using a simulation. \n",
    "\n",
    "If the die is fair, the chance of getting any value between $1$ to $6$ is equally distributed with probability $p_i=\\frac{1}{6}$ where $i=1,2,...,6$. Therefore, the hypothesis test for this problem can be stated as follows:\n",
    "$H_0: p_1=p_2=p_3=p_4=p_5=p_6=\\frac{1}{6}$ vs. $H_a: \\text{ not } H_0$\n",
    "\n",
    "The test statistic is: $$T_0=\\sum_{i=1}^6\\frac{(O_i-E_i)^2}{E_i} \\stackrel{\\text{approx under }H_0}{\\sim} \\chi^2_{df=6-1=5}$$\n",
    "\n",
    "Under the null hypothesis: $E_i=np_i=1000*\\frac{1}{6}=\\frac{1000}{6}$ for $i=1,2,3,4,5,6$. We have a table below:\n",
    "\n",
    "| Die value (i) | Observed value ($O_i$) | Expected ($E_i$) | Emperical probability ($\\hat{p_i}$)| Expected probability ($p_i$)|\n",
    "|-----------|----------------|----------|-------|-------|\n",
    "|     1     |   158          |1000/6    |0.158  |1/6    |\n",
    "|     2     |   172          |1000/6    |0.172  |1/6|\n",
    "|     3     |   164          |1000/6    |0.164  |1/6|\n",
    "|     4     |   181          |1000/6    |0.181  |1/6|\n",
    "|     5     |   160          |1000/6    |0.160  |1/6|\n",
    "|     6     |   165          |1000/6    |0.165  |1/6|\n",
    "\n",
    "Therefore, $$T_0=\\sum_{i=1}^6\\frac{(O_i-E_i)^2}{E_i}=\\frac{(158-1000/6)^2+...+(165-1000/6)^2}{1000/6}$$\n",
    "Now, we have to use simulation to obtain p-value where p-value$=Pr(\\chi^2_{df=5}\\geq T_0 | H_0 \\text{ is true})$. "
   ]
  },
  {
   "cell_type": "code",
   "execution_count": null,
   "metadata": {},
   "outputs": [],
   "source": []
  },
  {
   "cell_type": "code",
   "execution_count": null,
   "metadata": {},
   "outputs": [],
   "source": []
  }
 ],
 "metadata": {
  "kernelspec": {
   "display_name": "Python 3",
   "language": "python",
   "name": "python3"
  },
  "language_info": {
   "codemirror_mode": {
    "name": "ipython",
    "version": 3
   },
   "file_extension": ".py",
   "mimetype": "text/x-python",
   "name": "python",
   "nbconvert_exporter": "python",
   "pygments_lexer": "ipython3",
   "version": "3.6.5"
  }
 },
 "nbformat": 4,
 "nbformat_minor": 2
}
